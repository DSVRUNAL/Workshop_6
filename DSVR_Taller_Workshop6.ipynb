{
 "cells": [
  {
   "cell_type": "markdown",
   "id": "40784b0d-2ffb-4f3d-834f-eb66335d99db",
   "metadata": {},
   "source": [
    "# Workshop 6  - Desarrollo\n",
    "## Parte 1 - Datos geográficos y estadísticos disponibles\n",
    "1. Carga de todos los insumos cartográficos disponibles y reproyección a EPSG 9377\n",
    "2. Carga de los datos de EVAS desde csv\n",
    "3. Selección de departamentos a partir de su producción para el cultivo de **Caña** o **Maiz**"
   ]
  },
  {
   "cell_type": "code",
   "execution_count": null,
   "id": "b1dbe785-09ee-46b3-9ba2-7f7c033e091e",
   "metadata": {},
   "outputs": [],
   "source": [
    "# Codigo "
   ]
  },
  {
   "cell_type": "markdown",
   "id": "09c70a86-0af9-4deb-b396-b681967f59ba",
   "metadata": {},
   "source": [
    "## Parte 2 - Exploración de los datos y selección municipal\n",
    "1. A partir de los municipios seleccionados identificar las estaciones del IDEAM dentro y cercanas\n",
    "2. Aptitud de **????** por municipio\n",
    "3. Tipos de cuerpos de agua y cantidad por municipio\n",
    "4. Densidad de vías por municipio\n",
    "5. Selección de municipio con la mayor cantidad de área apta para el cultivo de **???**, sistema hídrico y densidad de vías para transportar insumos y carga\n",
    "6. Identificar las estaciones del IDEAM cercanas (buffer de 3km) o dentro del municipio "
   ]
  },
  {
   "cell_type": "code",
   "execution_count": null,
   "id": "9a447fa5-f1d4-405c-962b-2db70ec89698",
   "metadata": {},
   "outputs": [],
   "source": [
    "# Codigo"
   ]
  },
  {
   "cell_type": "markdown",
   "id": "79195f0d-a8aa-498e-b7fd-7bb4c207501d",
   "metadata": {},
   "source": [
    "## Parte 3 - Identificar mejor zona para establecer cultivo\n",
    "1. Identificar las áreas aptas que están dentro de la Frontera Agrícola\n",
    "2. Subdivisión por grilla de 1ha\n",
    "3. Excluir zonas con distancias ≤ 50m a drenajes dobles o sencillos y excluir zonas que contengan otros cuerpos de agua\n",
    "5. Distancia a las vías de acceso (≤ 1km)\n",
    "6. Distancia a estaciones del IDEAM (≤ 1km)"
   ]
  },
  {
   "cell_type": "code",
   "execution_count": null,
   "id": "c95c67a2-15bd-4708-8660-5efa86050540",
   "metadata": {},
   "outputs": [],
   "source": [
    "# Codigo"
   ]
  }
 ],
 "metadata": {
  "kernelspec": {
   "display_name": "Python 3 (ipykernel)",
   "language": "python",
   "name": "python3"
  },
  "language_info": {
   "codemirror_mode": {
    "name": "ipython",
    "version": 3
   },
   "file_extension": ".py",
   "mimetype": "text/x-python",
   "name": "python",
   "nbconvert_exporter": "python",
   "pygments_lexer": "ipython3",
   "version": "3.11.9"
  }
 },
 "nbformat": 4,
 "nbformat_minor": 5
}
